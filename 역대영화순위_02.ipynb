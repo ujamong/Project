{
 "cells": [
  {
   "cell_type": "markdown",
   "id": "29a1790f",
   "metadata": {},
   "source": [
    "# 영화 스크린 수가 영화 흥행에 영향을 미칠까?\n",
    "\n",
    "* 영화가 흥행에는 관객수가 큰 요인이 된다.\n",
    "* 스크린(상영관)이 많은 것이 관객을 모으는 것에 큰 요인이 될까?\n",
    "* 영화 스크린 수와 영화 관객과의 상관관계가 강한 양의 상관관계를 가지고 있을까?"
   ]
  },
  {
   "cell_type": "code",
   "execution_count": 1,
   "id": "6d27b9be",
   "metadata": {},
   "outputs": [],
   "source": [
    "import pandas as pd\n",
    "import numpy as np"
   ]
  },
  {
   "cell_type": "code",
   "execution_count": 2,
   "id": "2d891002",
   "metadata": {},
   "outputs": [],
   "source": [
    "top_movie = pd.read_excel('./KOBIS_역대_박스오피스_내역(공식통계_기준)_2021-07-06.xlsx')"
   ]
  },
  {
   "cell_type": "code",
   "execution_count": 3,
   "id": "3fcd94c2",
   "metadata": {},
   "outputs": [
    {
     "data": {
      "text/html": [
       "<div>\n",
       "<style scoped>\n",
       "    .dataframe tbody tr th:only-of-type {\n",
       "        vertical-align: middle;\n",
       "    }\n",
       "\n",
       "    .dataframe tbody tr th {\n",
       "        vertical-align: top;\n",
       "    }\n",
       "\n",
       "    .dataframe thead th {\n",
       "        text-align: right;\n",
       "    }\n",
       "</style>\n",
       "<table border=\"1\" class=\"dataframe\">\n",
       "  <thead>\n",
       "    <tr style=\"text-align: right;\">\n",
       "      <th></th>\n",
       "      <th>순위</th>\n",
       "      <th>영화명</th>\n",
       "      <th>개봉일</th>\n",
       "      <th>매출액</th>\n",
       "      <th>관객수</th>\n",
       "      <th>Unnamed: 5</th>\n",
       "      <th>스크린수</th>\n",
       "      <th>Unnamed: 7</th>\n",
       "      <th>대표국적</th>\n",
       "      <th>국적</th>\n",
       "      <th>배급사</th>\n",
       "    </tr>\n",
       "  </thead>\n",
       "  <tbody>\n",
       "    <tr>\n",
       "      <th>0</th>\n",
       "      <td>1</td>\n",
       "      <td>명량</td>\n",
       "      <td>2014-07-30</td>\n",
       "      <td>1.357484e+11</td>\n",
       "      <td>NaN</td>\n",
       "      <td>17613682</td>\n",
       "      <td>NaN</td>\n",
       "      <td>1587</td>\n",
       "      <td>한국</td>\n",
       "      <td>한국</td>\n",
       "      <td>(주)씨제이이엔엠</td>\n",
       "    </tr>\n",
       "    <tr>\n",
       "      <th>1</th>\n",
       "      <td>2</td>\n",
       "      <td>극한직업</td>\n",
       "      <td>2019-01-23</td>\n",
       "      <td>1.396480e+11</td>\n",
       "      <td>NaN</td>\n",
       "      <td>16264944</td>\n",
       "      <td>NaN</td>\n",
       "      <td>1978</td>\n",
       "      <td>한국</td>\n",
       "      <td>한국</td>\n",
       "      <td>(주)씨제이이엔엠</td>\n",
       "    </tr>\n",
       "    <tr>\n",
       "      <th>2</th>\n",
       "      <td>3</td>\n",
       "      <td>신과함께-죄와 벌</td>\n",
       "      <td>2017-12-20</td>\n",
       "      <td>1.156987e+11</td>\n",
       "      <td>NaN</td>\n",
       "      <td>14410754</td>\n",
       "      <td>NaN</td>\n",
       "      <td>1912</td>\n",
       "      <td>한국</td>\n",
       "      <td>한국</td>\n",
       "      <td>롯데쇼핑㈜롯데엔터테인먼트</td>\n",
       "    </tr>\n",
       "    <tr>\n",
       "      <th>3</th>\n",
       "      <td>4</td>\n",
       "      <td>국제시장</td>\n",
       "      <td>2014-12-17</td>\n",
       "      <td>1.109135e+11</td>\n",
       "      <td>NaN</td>\n",
       "      <td>14257115</td>\n",
       "      <td>NaN</td>\n",
       "      <td>966</td>\n",
       "      <td>한국</td>\n",
       "      <td>한국</td>\n",
       "      <td>(주)씨제이이엔엠</td>\n",
       "    </tr>\n",
       "    <tr>\n",
       "      <th>4</th>\n",
       "      <td>5</td>\n",
       "      <td>어벤져스: 엔드게임</td>\n",
       "      <td>2019-04-24</td>\n",
       "      <td>1.221827e+11</td>\n",
       "      <td>NaN</td>\n",
       "      <td>13934592</td>\n",
       "      <td>NaN</td>\n",
       "      <td>2835</td>\n",
       "      <td>미국</td>\n",
       "      <td>미국</td>\n",
       "      <td>월트디즈니컴퍼니코리아 유한책임회사</td>\n",
       "    </tr>\n",
       "    <tr>\n",
       "      <th>...</th>\n",
       "      <td>...</td>\n",
       "      <td>...</td>\n",
       "      <td>...</td>\n",
       "      <td>...</td>\n",
       "      <td>...</td>\n",
       "      <td>...</td>\n",
       "      <td>...</td>\n",
       "      <td>...</td>\n",
       "      <td>...</td>\n",
       "      <td>...</td>\n",
       "      <td>...</td>\n",
       "    </tr>\n",
       "    <tr>\n",
       "      <th>495</th>\n",
       "      <td>496</td>\n",
       "      <td>분노의 질주: 더 얼티메이트</td>\n",
       "      <td>2021-05-19</td>\n",
       "      <td>1.726808e+10</td>\n",
       "      <td>NaN</td>\n",
       "      <td>1790155</td>\n",
       "      <td>NaN</td>\n",
       "      <td>2296</td>\n",
       "      <td>미국</td>\n",
       "      <td>미국</td>\n",
       "      <td>유니버설픽쳐스인터내셔널 코리아(유)</td>\n",
       "    </tr>\n",
       "    <tr>\n",
       "      <th>496</th>\n",
       "      <td>497</td>\n",
       "      <td>아내가 결혼했다</td>\n",
       "      <td>2008-10-23</td>\n",
       "      <td>1.199586e+10</td>\n",
       "      <td>NaN</td>\n",
       "      <td>1788748</td>\n",
       "      <td>NaN</td>\n",
       "      <td>414</td>\n",
       "      <td>한국</td>\n",
       "      <td>한국</td>\n",
       "      <td>CJ ENM</td>\n",
       "    </tr>\n",
       "    <tr>\n",
       "      <th>497</th>\n",
       "      <td>498</td>\n",
       "      <td>저스티스 리그</td>\n",
       "      <td>2017-11-15</td>\n",
       "      <td>1.462969e+10</td>\n",
       "      <td>NaN</td>\n",
       "      <td>1786386</td>\n",
       "      <td>NaN</td>\n",
       "      <td>1308</td>\n",
       "      <td>미국</td>\n",
       "      <td>미국</td>\n",
       "      <td>워너브러더스 코리아(주)</td>\n",
       "    </tr>\n",
       "    <tr>\n",
       "      <th>498</th>\n",
       "      <td>499</td>\n",
       "      <td>여고괴담 세번째 이야기: 여우계단</td>\n",
       "      <td>2003-08-01</td>\n",
       "      <td>0.000000e+00</td>\n",
       "      <td>NaN</td>\n",
       "      <td>1784479</td>\n",
       "      <td>S</td>\n",
       "      <td>44</td>\n",
       "      <td>한국</td>\n",
       "      <td>한국</td>\n",
       "      <td>(주)시네마서비스</td>\n",
       "    </tr>\n",
       "    <tr>\n",
       "      <th>499</th>\n",
       "      <td>500</td>\n",
       "      <td>아이, 로봇</td>\n",
       "      <td>2004-07-30</td>\n",
       "      <td>0.000000e+00</td>\n",
       "      <td>NaN</td>\n",
       "      <td>1777470</td>\n",
       "      <td>S</td>\n",
       "      <td>49</td>\n",
       "      <td>미국</td>\n",
       "      <td>미국</td>\n",
       "      <td>이십세기폭스필름코퍼레이션</td>\n",
       "    </tr>\n",
       "  </tbody>\n",
       "</table>\n",
       "<p>500 rows × 11 columns</p>\n",
       "</div>"
      ],
      "text/plain": [
       "      순위                 영화명        개봉일           매출액  관객수  Unnamed: 5 스크린수  \\\n",
       "0      1                  명량 2014-07-30  1.357484e+11  NaN    17613682  NaN   \n",
       "1      2                극한직업 2019-01-23  1.396480e+11  NaN    16264944  NaN   \n",
       "2      3           신과함께-죄와 벌 2017-12-20  1.156987e+11  NaN    14410754  NaN   \n",
       "3      4                국제시장 2014-12-17  1.109135e+11  NaN    14257115  NaN   \n",
       "4      5          어벤져스: 엔드게임 2019-04-24  1.221827e+11  NaN    13934592  NaN   \n",
       "..   ...                 ...        ...           ...  ...         ...  ...   \n",
       "495  496     분노의 질주: 더 얼티메이트 2021-05-19  1.726808e+10  NaN     1790155  NaN   \n",
       "496  497            아내가 결혼했다 2008-10-23  1.199586e+10  NaN     1788748  NaN   \n",
       "497  498             저스티스 리그 2017-11-15  1.462969e+10  NaN     1786386  NaN   \n",
       "498  499  여고괴담 세번째 이야기: 여우계단 2003-08-01  0.000000e+00  NaN     1784479    S   \n",
       "499  500              아이, 로봇 2004-07-30  0.000000e+00  NaN     1777470    S   \n",
       "\n",
       "     Unnamed: 7 대표국적  국적                  배급사  \n",
       "0          1587   한국  한국            (주)씨제이이엔엠  \n",
       "1          1978   한국  한국            (주)씨제이이엔엠  \n",
       "2          1912   한국  한국        롯데쇼핑㈜롯데엔터테인먼트  \n",
       "3           966   한국  한국            (주)씨제이이엔엠  \n",
       "4          2835   미국  미국   월트디즈니컴퍼니코리아 유한책임회사  \n",
       "..          ...  ...  ..                  ...  \n",
       "495        2296   미국  미국  유니버설픽쳐스인터내셔널 코리아(유)  \n",
       "496         414   한국  한국               CJ ENM  \n",
       "497        1308   미국  미국        워너브러더스 코리아(주)  \n",
       "498          44   한국  한국            (주)시네마서비스  \n",
       "499          49   미국  미국        이십세기폭스필름코퍼레이션  \n",
       "\n",
       "[500 rows x 11 columns]"
      ]
     },
     "execution_count": 3,
     "metadata": {},
     "output_type": "execute_result"
    }
   ],
   "source": [
    "top_movie"
   ]
  },
  {
   "cell_type": "code",
   "execution_count": 4,
   "id": "dcc261c0",
   "metadata": {},
   "outputs": [
    {
     "data": {
      "text/html": [
       "<div>\n",
       "<style scoped>\n",
       "    .dataframe tbody tr th:only-of-type {\n",
       "        vertical-align: middle;\n",
       "    }\n",
       "\n",
       "    .dataframe tbody tr th {\n",
       "        vertical-align: top;\n",
       "    }\n",
       "\n",
       "    .dataframe thead th {\n",
       "        text-align: right;\n",
       "    }\n",
       "</style>\n",
       "<table border=\"1\" class=\"dataframe\">\n",
       "  <thead>\n",
       "    <tr style=\"text-align: right;\">\n",
       "      <th></th>\n",
       "      <th>순위</th>\n",
       "      <th>영화명</th>\n",
       "      <th>개봉일</th>\n",
       "      <th>매출액</th>\n",
       "      <th>Unnamed: 5</th>\n",
       "      <th>Unnamed: 7</th>\n",
       "    </tr>\n",
       "  </thead>\n",
       "  <tbody>\n",
       "    <tr>\n",
       "      <th>0</th>\n",
       "      <td>1</td>\n",
       "      <td>명량</td>\n",
       "      <td>2014-07-30</td>\n",
       "      <td>1.357484e+11</td>\n",
       "      <td>17613682</td>\n",
       "      <td>1587</td>\n",
       "    </tr>\n",
       "    <tr>\n",
       "      <th>1</th>\n",
       "      <td>2</td>\n",
       "      <td>극한직업</td>\n",
       "      <td>2019-01-23</td>\n",
       "      <td>1.396480e+11</td>\n",
       "      <td>16264944</td>\n",
       "      <td>1978</td>\n",
       "    </tr>\n",
       "    <tr>\n",
       "      <th>2</th>\n",
       "      <td>3</td>\n",
       "      <td>신과함께-죄와 벌</td>\n",
       "      <td>2017-12-20</td>\n",
       "      <td>1.156987e+11</td>\n",
       "      <td>14410754</td>\n",
       "      <td>1912</td>\n",
       "    </tr>\n",
       "    <tr>\n",
       "      <th>3</th>\n",
       "      <td>4</td>\n",
       "      <td>국제시장</td>\n",
       "      <td>2014-12-17</td>\n",
       "      <td>1.109135e+11</td>\n",
       "      <td>14257115</td>\n",
       "      <td>966</td>\n",
       "    </tr>\n",
       "    <tr>\n",
       "      <th>4</th>\n",
       "      <td>5</td>\n",
       "      <td>어벤져스: 엔드게임</td>\n",
       "      <td>2019-04-24</td>\n",
       "      <td>1.221827e+11</td>\n",
       "      <td>13934592</td>\n",
       "      <td>2835</td>\n",
       "    </tr>\n",
       "  </tbody>\n",
       "</table>\n",
       "</div>"
      ],
      "text/plain": [
       "   순위         영화명        개봉일           매출액  Unnamed: 5  Unnamed: 7\n",
       "0   1          명량 2014-07-30  1.357484e+11    17613682        1587\n",
       "1   2        극한직업 2019-01-23  1.396480e+11    16264944        1978\n",
       "2   3   신과함께-죄와 벌 2017-12-20  1.156987e+11    14410754        1912\n",
       "3   4        국제시장 2014-12-17  1.109135e+11    14257115         966\n",
       "4   5  어벤져스: 엔드게임 2019-04-24  1.221827e+11    13934592        2835"
      ]
     },
     "execution_count": 4,
     "metadata": {},
     "output_type": "execute_result"
    }
   ],
   "source": [
    "del top_movie['관객수']\n",
    "del top_movie['스크린수']\n",
    "del top_movie['대표국적']\n",
    "del top_movie['국적']\n",
    "del top_movie['배급사']\n",
    "\n",
    "top_movie.head()"
   ]
  },
  {
   "cell_type": "code",
   "execution_count": 5,
   "id": "c2693b5b",
   "metadata": {},
   "outputs": [],
   "source": [
    "top_movie.rename(columns = {top_movie.columns[4]:'관객수',\n",
    "                top_movie.columns[5]: '스크린수'}, inplace = True)"
   ]
  },
  {
   "cell_type": "code",
   "execution_count": 6,
   "id": "88c04139",
   "metadata": {
    "scrolled": false
   },
   "outputs": [
    {
     "data": {
      "text/html": [
       "<div>\n",
       "<style scoped>\n",
       "    .dataframe tbody tr th:only-of-type {\n",
       "        vertical-align: middle;\n",
       "    }\n",
       "\n",
       "    .dataframe tbody tr th {\n",
       "        vertical-align: top;\n",
       "    }\n",
       "\n",
       "    .dataframe thead th {\n",
       "        text-align: right;\n",
       "    }\n",
       "</style>\n",
       "<table border=\"1\" class=\"dataframe\">\n",
       "  <thead>\n",
       "    <tr style=\"text-align: right;\">\n",
       "      <th></th>\n",
       "      <th>순위</th>\n",
       "      <th>영화명</th>\n",
       "      <th>개봉일</th>\n",
       "      <th>매출액</th>\n",
       "      <th>관객수</th>\n",
       "      <th>스크린수</th>\n",
       "    </tr>\n",
       "  </thead>\n",
       "  <tbody>\n",
       "    <tr>\n",
       "      <th>0</th>\n",
       "      <td>1</td>\n",
       "      <td>명량</td>\n",
       "      <td>2014-07-30</td>\n",
       "      <td>1.357484e+11</td>\n",
       "      <td>17613682</td>\n",
       "      <td>1587</td>\n",
       "    </tr>\n",
       "    <tr>\n",
       "      <th>1</th>\n",
       "      <td>2</td>\n",
       "      <td>극한직업</td>\n",
       "      <td>2019-01-23</td>\n",
       "      <td>1.396480e+11</td>\n",
       "      <td>16264944</td>\n",
       "      <td>1978</td>\n",
       "    </tr>\n",
       "    <tr>\n",
       "      <th>2</th>\n",
       "      <td>3</td>\n",
       "      <td>신과함께-죄와 벌</td>\n",
       "      <td>2017-12-20</td>\n",
       "      <td>1.156987e+11</td>\n",
       "      <td>14410754</td>\n",
       "      <td>1912</td>\n",
       "    </tr>\n",
       "    <tr>\n",
       "      <th>3</th>\n",
       "      <td>4</td>\n",
       "      <td>국제시장</td>\n",
       "      <td>2014-12-17</td>\n",
       "      <td>1.109135e+11</td>\n",
       "      <td>14257115</td>\n",
       "      <td>966</td>\n",
       "    </tr>\n",
       "    <tr>\n",
       "      <th>4</th>\n",
       "      <td>5</td>\n",
       "      <td>어벤져스: 엔드게임</td>\n",
       "      <td>2019-04-24</td>\n",
       "      <td>1.221827e+11</td>\n",
       "      <td>13934592</td>\n",
       "      <td>2835</td>\n",
       "    </tr>\n",
       "    <tr>\n",
       "      <th>...</th>\n",
       "      <td>...</td>\n",
       "      <td>...</td>\n",
       "      <td>...</td>\n",
       "      <td>...</td>\n",
       "      <td>...</td>\n",
       "      <td>...</td>\n",
       "    </tr>\n",
       "    <tr>\n",
       "      <th>495</th>\n",
       "      <td>496</td>\n",
       "      <td>분노의 질주: 더 얼티메이트</td>\n",
       "      <td>2021-05-19</td>\n",
       "      <td>1.726808e+10</td>\n",
       "      <td>1790155</td>\n",
       "      <td>2296</td>\n",
       "    </tr>\n",
       "    <tr>\n",
       "      <th>496</th>\n",
       "      <td>497</td>\n",
       "      <td>아내가 결혼했다</td>\n",
       "      <td>2008-10-23</td>\n",
       "      <td>1.199586e+10</td>\n",
       "      <td>1788748</td>\n",
       "      <td>414</td>\n",
       "    </tr>\n",
       "    <tr>\n",
       "      <th>497</th>\n",
       "      <td>498</td>\n",
       "      <td>저스티스 리그</td>\n",
       "      <td>2017-11-15</td>\n",
       "      <td>1.462969e+10</td>\n",
       "      <td>1786386</td>\n",
       "      <td>1308</td>\n",
       "    </tr>\n",
       "    <tr>\n",
       "      <th>498</th>\n",
       "      <td>499</td>\n",
       "      <td>여고괴담 세번째 이야기: 여우계단</td>\n",
       "      <td>2003-08-01</td>\n",
       "      <td>0.000000e+00</td>\n",
       "      <td>1784479</td>\n",
       "      <td>44</td>\n",
       "    </tr>\n",
       "    <tr>\n",
       "      <th>499</th>\n",
       "      <td>500</td>\n",
       "      <td>아이, 로봇</td>\n",
       "      <td>2004-07-30</td>\n",
       "      <td>0.000000e+00</td>\n",
       "      <td>1777470</td>\n",
       "      <td>49</td>\n",
       "    </tr>\n",
       "  </tbody>\n",
       "</table>\n",
       "<p>500 rows × 6 columns</p>\n",
       "</div>"
      ],
      "text/plain": [
       "      순위                 영화명        개봉일           매출액       관객수  스크린수\n",
       "0      1                  명량 2014-07-30  1.357484e+11  17613682  1587\n",
       "1      2                극한직업 2019-01-23  1.396480e+11  16264944  1978\n",
       "2      3           신과함께-죄와 벌 2017-12-20  1.156987e+11  14410754  1912\n",
       "3      4                국제시장 2014-12-17  1.109135e+11  14257115   966\n",
       "4      5          어벤져스: 엔드게임 2019-04-24  1.221827e+11  13934592  2835\n",
       "..   ...                 ...        ...           ...       ...   ...\n",
       "495  496     분노의 질주: 더 얼티메이트 2021-05-19  1.726808e+10   1790155  2296\n",
       "496  497            아내가 결혼했다 2008-10-23  1.199586e+10   1788748   414\n",
       "497  498             저스티스 리그 2017-11-15  1.462969e+10   1786386  1308\n",
       "498  499  여고괴담 세번째 이야기: 여우계단 2003-08-01  0.000000e+00   1784479    44\n",
       "499  500              아이, 로봇 2004-07-30  0.000000e+00   1777470    49\n",
       "\n",
       "[500 rows x 6 columns]"
      ]
     },
     "execution_count": 6,
     "metadata": {},
     "output_type": "execute_result"
    }
   ],
   "source": [
    "top_movie"
   ]
  },
  {
   "cell_type": "code",
   "execution_count": 7,
   "id": "d45d7fff",
   "metadata": {
    "scrolled": false
   },
   "outputs": [
    {
     "data": {
      "text/plain": [
       "순위               int64\n",
       "영화명             object\n",
       "개봉일     datetime64[ns]\n",
       "매출액            float64\n",
       "관객수              int64\n",
       "스크린수             int64\n",
       "dtype: object"
      ]
     },
     "execution_count": 7,
     "metadata": {},
     "output_type": "execute_result"
    }
   ],
   "source": [
    "top_movie.dtypes"
   ]
  },
  {
   "cell_type": "code",
   "execution_count": 8,
   "id": "1d142ecf",
   "metadata": {
    "scrolled": true
   },
   "outputs": [
    {
     "data": {
      "text/html": [
       "<div>\n",
       "<style scoped>\n",
       "    .dataframe tbody tr th:only-of-type {\n",
       "        vertical-align: middle;\n",
       "    }\n",
       "\n",
       "    .dataframe tbody tr th {\n",
       "        vertical-align: top;\n",
       "    }\n",
       "\n",
       "    .dataframe thead th {\n",
       "        text-align: right;\n",
       "    }\n",
       "</style>\n",
       "<table border=\"1\" class=\"dataframe\">\n",
       "  <thead>\n",
       "    <tr style=\"text-align: right;\">\n",
       "      <th></th>\n",
       "      <th>순위</th>\n",
       "      <th>영화명</th>\n",
       "      <th>개봉일</th>\n",
       "      <th>매출액</th>\n",
       "      <th>관객수</th>\n",
       "      <th>스크린수</th>\n",
       "    </tr>\n",
       "  </thead>\n",
       "  <tbody>\n",
       "  </tbody>\n",
       "</table>\n",
       "</div>"
      ],
      "text/plain": [
       "Empty DataFrame\n",
       "Columns: [순위, 영화명, 개봉일, 매출액, 관객수, 스크린수]\n",
       "Index: []"
      ]
     },
     "execution_count": 8,
     "metadata": {},
     "output_type": "execute_result"
    }
   ],
   "source": [
    "top_movie[top_movie['관객수'].isna()]"
   ]
  },
  {
   "cell_type": "code",
   "execution_count": 9,
   "id": "1fd2d06c",
   "metadata": {},
   "outputs": [
    {
     "data": {
      "text/html": [
       "<div>\n",
       "<style scoped>\n",
       "    .dataframe tbody tr th:only-of-type {\n",
       "        vertical-align: middle;\n",
       "    }\n",
       "\n",
       "    .dataframe tbody tr th {\n",
       "        vertical-align: top;\n",
       "    }\n",
       "\n",
       "    .dataframe thead th {\n",
       "        text-align: right;\n",
       "    }\n",
       "</style>\n",
       "<table border=\"1\" class=\"dataframe\">\n",
       "  <thead>\n",
       "    <tr style=\"text-align: right;\">\n",
       "      <th></th>\n",
       "      <th>순위</th>\n",
       "      <th>영화명</th>\n",
       "      <th>개봉일</th>\n",
       "      <th>매출액</th>\n",
       "      <th>관객수</th>\n",
       "      <th>스크린수</th>\n",
       "    </tr>\n",
       "  </thead>\n",
       "  <tbody>\n",
       "  </tbody>\n",
       "</table>\n",
       "</div>"
      ],
      "text/plain": [
       "Empty DataFrame\n",
       "Columns: [순위, 영화명, 개봉일, 매출액, 관객수, 스크린수]\n",
       "Index: []"
      ]
     },
     "execution_count": 9,
     "metadata": {},
     "output_type": "execute_result"
    }
   ],
   "source": [
    "top_movie[top_movie['스크린수'].isna()]"
   ]
  },
  {
   "cell_type": "code",
   "execution_count": 10,
   "id": "dabe01c0",
   "metadata": {},
   "outputs": [],
   "source": [
    "top_movie.to_excel('역대영화순위.xlsx', index = False)"
   ]
  },
  {
   "cell_type": "code",
   "execution_count": 11,
   "id": "44334151",
   "metadata": {},
   "outputs": [],
   "source": [
    "top_movie = pd.read_excel('역대영화순위.xlsx')"
   ]
  },
  {
   "cell_type": "code",
   "execution_count": 12,
   "id": "2da620fb",
   "metadata": {},
   "outputs": [
    {
     "data": {
      "text/html": [
       "<div>\n",
       "<style scoped>\n",
       "    .dataframe tbody tr th:only-of-type {\n",
       "        vertical-align: middle;\n",
       "    }\n",
       "\n",
       "    .dataframe tbody tr th {\n",
       "        vertical-align: top;\n",
       "    }\n",
       "\n",
       "    .dataframe thead th {\n",
       "        text-align: right;\n",
       "    }\n",
       "</style>\n",
       "<table border=\"1\" class=\"dataframe\">\n",
       "  <thead>\n",
       "    <tr style=\"text-align: right;\">\n",
       "      <th></th>\n",
       "      <th>순위</th>\n",
       "      <th>영화명</th>\n",
       "      <th>개봉일</th>\n",
       "      <th>매출액</th>\n",
       "      <th>관객수</th>\n",
       "      <th>스크린수</th>\n",
       "    </tr>\n",
       "  </thead>\n",
       "  <tbody>\n",
       "    <tr>\n",
       "      <th>0</th>\n",
       "      <td>1</td>\n",
       "      <td>명량</td>\n",
       "      <td>2014-07-30</td>\n",
       "      <td>1.357484e+11</td>\n",
       "      <td>17613682</td>\n",
       "      <td>1587</td>\n",
       "    </tr>\n",
       "    <tr>\n",
       "      <th>1</th>\n",
       "      <td>2</td>\n",
       "      <td>극한직업</td>\n",
       "      <td>2019-01-23</td>\n",
       "      <td>1.396480e+11</td>\n",
       "      <td>16264944</td>\n",
       "      <td>1978</td>\n",
       "    </tr>\n",
       "    <tr>\n",
       "      <th>2</th>\n",
       "      <td>3</td>\n",
       "      <td>신과함께-죄와 벌</td>\n",
       "      <td>2017-12-20</td>\n",
       "      <td>1.156987e+11</td>\n",
       "      <td>14410754</td>\n",
       "      <td>1912</td>\n",
       "    </tr>\n",
       "    <tr>\n",
       "      <th>3</th>\n",
       "      <td>4</td>\n",
       "      <td>국제시장</td>\n",
       "      <td>2014-12-17</td>\n",
       "      <td>1.109135e+11</td>\n",
       "      <td>14257115</td>\n",
       "      <td>966</td>\n",
       "    </tr>\n",
       "    <tr>\n",
       "      <th>4</th>\n",
       "      <td>5</td>\n",
       "      <td>어벤져스: 엔드게임</td>\n",
       "      <td>2019-04-24</td>\n",
       "      <td>1.221827e+11</td>\n",
       "      <td>13934592</td>\n",
       "      <td>2835</td>\n",
       "    </tr>\n",
       "  </tbody>\n",
       "</table>\n",
       "</div>"
      ],
      "text/plain": [
       "   순위         영화명        개봉일           매출액       관객수  스크린수\n",
       "0   1          명량 2014-07-30  1.357484e+11  17613682  1587\n",
       "1   2        극한직업 2019-01-23  1.396480e+11  16264944  1978\n",
       "2   3   신과함께-죄와 벌 2017-12-20  1.156987e+11  14410754  1912\n",
       "3   4        국제시장 2014-12-17  1.109135e+11  14257115   966\n",
       "4   5  어벤져스: 엔드게임 2019-04-24  1.221827e+11  13934592  2835"
      ]
     },
     "execution_count": 12,
     "metadata": {},
     "output_type": "execute_result"
    }
   ],
   "source": [
    "top_movie.head()"
   ]
  },
  {
   "cell_type": "code",
   "execution_count": 13,
   "id": "44c8650f",
   "metadata": {},
   "outputs": [
    {
     "data": {
      "text/plain": [
       "array([[1.        , 0.37941468],\n",
       "       [0.37941468, 1.        ]])"
      ]
     },
     "execution_count": 13,
     "metadata": {},
     "output_type": "execute_result"
    }
   ],
   "source": [
    "np.corrcoef(top_movie['스크린수'],top_movie['관객수'])\n",
    "\n",
    "#약한 양의 상관관계"
   ]
  },
  {
   "cell_type": "code",
   "execution_count": 14,
   "id": "a0a73d24",
   "metadata": {},
   "outputs": [],
   "source": [
    "import matplotlib.pyplot as plt\n",
    "%matplotlib inline"
   ]
  },
  {
   "cell_type": "code",
   "execution_count": 15,
   "id": "f212aba3",
   "metadata": {},
   "outputs": [
    {
     "data": {
      "text/plain": [
       "array([1.83865540e+03, 2.67558074e+06])"
      ]
     },
     "execution_count": 15,
     "metadata": {},
     "output_type": "execute_result"
    }
   ],
   "source": [
    "fp1 = np.polyfit(top_movie['스크린수'],top_movie['관객수'], 1) # 기울기와 y절편과 차수\n",
    "fp1"
   ]
  },
  {
   "cell_type": "code",
   "execution_count": 16,
   "id": "51a149e5",
   "metadata": {},
   "outputs": [
    {
     "data": {
      "text/plain": [
       "poly1d([1.83865540e+03, 2.67558074e+06])"
      ]
     },
     "execution_count": 16,
     "metadata": {},
     "output_type": "execute_result"
    }
   ],
   "source": [
    "f1 = np.poly1d(fp1) # polynominal class로 만들어주기, first class로 표현, 위의 결과 [1.83865540e+03, 2.67558074e+06]집어넣음\n",
    "f1"
   ]
  },
  {
   "cell_type": "code",
   "execution_count": 17,
   "id": "9add7ac0",
   "metadata": {
    "scrolled": true
   },
   "outputs": [
    {
     "data": {
      "text/plain": [
       "array([   0.        ,   28.63636364,   57.27272727,   85.90909091,\n",
       "        114.54545455,  143.18181818,  171.81818182,  200.45454545,\n",
       "        229.09090909,  257.72727273,  286.36363636,  315.        ,\n",
       "        343.63636364,  372.27272727,  400.90909091,  429.54545455,\n",
       "        458.18181818,  486.81818182,  515.45454545,  544.09090909,\n",
       "        572.72727273,  601.36363636,  630.        ,  658.63636364,\n",
       "        687.27272727,  715.90909091,  744.54545455,  773.18181818,\n",
       "        801.81818182,  830.45454545,  859.09090909,  887.72727273,\n",
       "        916.36363636,  945.        ,  973.63636364, 1002.27272727,\n",
       "       1030.90909091, 1059.54545455, 1088.18181818, 1116.81818182,\n",
       "       1145.45454545, 1174.09090909, 1202.72727273, 1231.36363636,\n",
       "       1260.        , 1288.63636364, 1317.27272727, 1345.90909091,\n",
       "       1374.54545455, 1403.18181818, 1431.81818182, 1460.45454545,\n",
       "       1489.09090909, 1517.72727273, 1546.36363636, 1575.        ,\n",
       "       1603.63636364, 1632.27272727, 1660.90909091, 1689.54545455,\n",
       "       1718.18181818, 1746.81818182, 1775.45454545, 1804.09090909,\n",
       "       1832.72727273, 1861.36363636, 1890.        , 1918.63636364,\n",
       "       1947.27272727, 1975.90909091, 2004.54545455, 2033.18181818,\n",
       "       2061.81818182, 2090.45454545, 2119.09090909, 2147.72727273,\n",
       "       2176.36363636, 2205.        , 2233.63636364, 2262.27272727,\n",
       "       2290.90909091, 2319.54545455, 2348.18181818, 2376.81818182,\n",
       "       2405.45454545, 2434.09090909, 2462.72727273, 2491.36363636,\n",
       "       2520.        , 2548.63636364, 2577.27272727, 2605.90909091,\n",
       "       2634.54545455, 2663.18181818, 2691.81818182, 2720.45454545,\n",
       "       2749.09090909, 2777.72727273, 2806.36363636, 2835.        ])"
      ]
     },
     "execution_count": 17,
     "metadata": {},
     "output_type": "execute_result"
    }
   ],
   "source": [
    "fx = np.linspace(np.min(top_movie['스크린수']), np.max(top_movie['스크린수']), 100)\n",
    "fx"
   ]
  },
  {
   "cell_type": "code",
   "execution_count": 18,
   "id": "12cfb730",
   "metadata": {},
   "outputs": [
    {
     "data": {
      "text/plain": [
       "array([2675580.73870931, 2728233.1432077 , 2780885.5477061 ,\n",
       "       2833537.95220449, 2886190.35670288, 2938842.76120128,\n",
       "       2991495.16569967, 3044147.57019806, 3096799.97469646,\n",
       "       3149452.37919485, 3202104.78369324, 3254757.18819164,\n",
       "       3307409.59269003, 3360061.99718842, 3412714.40168681,\n",
       "       3465366.80618521, 3518019.2106836 , 3570671.61518199,\n",
       "       3623324.01968039, 3675976.42417878, 3728628.82867717,\n",
       "       3781281.23317557, 3833933.63767396, 3886586.04217235,\n",
       "       3939238.44667075, 3991890.85116914, 4044543.25566753,\n",
       "       4097195.66016593, 4149848.06466432, 4202500.46916271,\n",
       "       4255152.87366111, 4307805.2781595 , 4360457.68265789,\n",
       "       4413110.08715629, 4465762.49165468, 4518414.89615307,\n",
       "       4571067.30065146, 4623719.70514986, 4676372.10964825,\n",
       "       4729024.51414664, 4781676.91864504, 4834329.32314343,\n",
       "       4886981.72764182, 4939634.13214022, 4992286.53663861,\n",
       "       5044938.941137  , 5097591.3456354 , 5150243.75013379,\n",
       "       5202896.15463218, 5255548.55913058, 5308200.96362897,\n",
       "       5360853.36812736, 5413505.77262576, 5466158.17712415,\n",
       "       5518810.58162254, 5571462.98612094, 5624115.39061933,\n",
       "       5676767.79511772, 5729420.19961612, 5782072.60411451,\n",
       "       5834725.0086129 , 5887377.41311129, 5940029.81760969,\n",
       "       5992682.22210808, 6045334.62660647, 6097987.03110487,\n",
       "       6150639.43560326, 6203291.84010165, 6255944.24460005,\n",
       "       6308596.64909844, 6361249.05359683, 6413901.45809523,\n",
       "       6466553.86259362, 6519206.26709201, 6571858.67159041,\n",
       "       6624511.0760888 , 6677163.48058719, 6729815.88508559,\n",
       "       6782468.28958398, 6835120.69408237, 6887773.09858077,\n",
       "       6940425.50307916, 6993077.90757755, 7045730.31207595,\n",
       "       7098382.71657434, 7151035.12107273, 7203687.52557112,\n",
       "       7256339.93006952, 7308992.33456791, 7361644.7390663 ,\n",
       "       7414297.1435647 , 7466949.54806309, 7519601.95256148,\n",
       "       7572254.35705988, 7624906.76155827, 7677559.16605666,\n",
       "       7730211.57055506, 7782863.97505345, 7835516.37955184,\n",
       "       7888168.78405024])"
      ]
     },
     "execution_count": 18,
     "metadata": {},
     "output_type": "execute_result"
    }
   ],
   "source": [
    "f1(fx)"
   ]
  },
  {
   "cell_type": "code",
   "execution_count": 19,
   "id": "74c9be88",
   "metadata": {},
   "outputs": [],
   "source": [
    "import platform\n",
    "\n",
    "path = \"c:/Windows/Fonts/malgun.ttf\"\n",
    "from matplotlib import font_manager, rc\n",
    "if platform.system() == 'Darwin':\n",
    "    rc('font', family='AppleGothic')\n",
    "elif platform.system() == 'Windows':\n",
    "    font_name = font_manager.FontProperties(fname=path).get_name()\n",
    "    rc('font', family=font_name)\n",
    "else:\n",
    "    print('Unknown system... sorry~~~~') "
   ]
  },
  {
   "cell_type": "code",
   "execution_count": 20,
   "id": "8fc8e10b",
   "metadata": {
    "scrolled": false
   },
   "outputs": [
    {
     "data": {
      "image/png": "[encoded data removed]",
      "text/plain": [
       "<Figure size 720x720 with 1 Axes>"
      ]
     },
     "metadata": {
      "needs_background": "light"
     },
     "output_type": "display_data"
    }
   ],
   "source": [
    "#시각화\n",
    "\n",
    "plt.figure(figsize=(10,10))\n",
    "plt.scatter(top_movie['스크린수'],top_movie['관객수'], s=50)\n",
    "plt.plot(fx, f1(fx), ls='dashed', lw=3, color='g')\n",
    "plt.xlabel('스크린수')\n",
    "plt.ylabel('관객수')\n",
    "plt.grid()\n",
    "plt.show()"
   ]
  },
  {
   "cell_type": "markdown",
   "id": "964f29e9",
   "metadata": {},
   "source": [
    "# 상관관계 거의 없다!?\n",
    "\n",
    "* 상관계수를 알아보는 함수에서 보다시피, 0.37941468의 약한 양의 상관관계를 가지고 있음.\n",
    "* 시각화하여 확인한 결과, 스크린수가 많다고 해서 해당 영화를 많이 보는 것은 아니라는 것을 알 수 있음."
   ]
  },
  {
   "cell_type": "code",
   "execution_count": null,
   "id": "8573f04f",
   "metadata": {},
   "outputs": [],
   "source": []
  }
 ],
 "metadata": {
  "kernelspec": {
   "display_name": "Python 3 (ipykernel)",
   "language": "python",
   "name": "python3"
  },
  "language_info": {
   "codemirror_mode": {
    "name": "ipython",
    "version": 3
   },
   "file_extension": ".py",
   "mimetype": "text/x-python",
   "name": "python",
   "nbconvert_exporter": "python",
   "pygments_lexer": "ipython3",
   "version": "3.8.13"
  }
 },
 "nbformat": 4,
 "nbformat_minor": 5
}
